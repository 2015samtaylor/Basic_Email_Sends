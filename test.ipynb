{
 "cells": [
  {
   "cell_type": "code",
   "execution_count": 1,
   "metadata": {},
   "outputs": [
    {
     "name": "stderr",
     "output_type": "stream",
     "text": [
      "c:\\Users\\samuel.taylor\\Desktop\\Python_Scripts\\Log_Sender\\modules\\sql_query_module.py:31: UserWarning: pandas only supports SQLAlchemy connectable (engine/connection) or database string URI or sqlite3 DBAPI2 connection. Other DBAPI2 objects are not tested. Please consider using SQLAlchemy.\n",
      "  df_SQL = pd.read_sql_query(query, con = conn)\n"
     ]
    }
   ],
   "source": [
    "from config import EMAIL_PASS\n",
    "import logging\n",
    "from modules.logging_metadata import *\n",
    "from modules.email_sends import *\n",
    "from modules.ps_checks import *\n",
    "\n",
    "logger = JobLogger(process_name='PowerSchool Email Notification', \n",
    "                   job_name='PowerSchool Email Notification', \n",
    "                   job_type='python')\n",
    "\n",
    "logging.basicConfig(filename='Logs/PS_Email.log', level=logging.INFO,\n",
    "                   format='%(asctime)s - %(message)s', datefmt='%d-%b-%y %H:%M:%S',force=True)\n",
    "logging.info('\\n\\n-------------PS_Email new instance log')\n",
    "\n",
    "os.makedirs('Logs', exist_ok=True)\n",
    "\n",
    "#Initialize Email Class\n",
    "email_one = EMAIL(\n",
    "    EMAIL_PASS=EMAIL_PASS,\n",
    "    from_email='2015samtaylor@gmail.com',\n",
    "    to_email=['2015samtaylor@gmail.com', 'samuel.taylor@greendot.org'],\n",
    "    subject='PowerSchool Email Notification',\n",
    "    content_string='Email Notifying About PowerSchool Connection Status is....',\n",
    "    attachment_one_path=r'powerschool_log_fails.csv',\n",
    ")\n",
    "    \n",
    "\n",
    "#Test this\n",
    "def main(which_email_instance):\n",
    "    try:\n",
    "        determination(which_email_instance)\n",
    "        logging.info('Success')\n",
    "        # logger.log_job('Success')\n",
    "        # logger.send_frame_to_SQL()\n",
    "    except Exception as e:\n",
    "        logging.info(f'Process failed due to {e}')\n",
    "        # logger.log_job('Failure')\n",
    "        # logger.send_frame_to_SQL()\n",
    "\n",
    "main(email_one)"
   ]
  }
 ],
 "metadata": {
  "kernelspec": {
   "display_name": "Python 3",
   "language": "python",
   "name": "python3"
  },
  "language_info": {
   "codemirror_mode": {
    "name": "ipython",
    "version": 3
   },
   "file_extension": ".py",
   "mimetype": "text/x-python",
   "name": "python",
   "nbconvert_exporter": "python",
   "pygments_lexer": "ipython3",
   "version": "3.11.0"
  }
 },
 "nbformat": 4,
 "nbformat_minor": 2
}
